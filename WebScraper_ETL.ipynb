{
 "cells": [
  {
   "cell_type": "markdown",
   "metadata": {},
   "source": [
    "#### Imports"
   ]
  },
  {
   "cell_type": "code",
   "execution_count": null,
   "metadata": {
    "tags": []
   },
   "outputs": [],
   "source": [
    "import pandas as pd \n",
    "from selenium import webdriver \n",
    "from webdriver_manager.chrome import ChromeDriverManager\n",
    "from selenium.webdriver.common.by import By"
   ]
  },
  {
   "cell_type": "markdown",
   "metadata": {},
   "source": [
    "### WebScraper ETL "
   ]
  },
  {
   "cell_type": "code",
   "execution_count": null,
   "metadata": {
    "tags": []
   },
   "outputs": [],
   "source": [
    "# Create driver \n",
    "driver = webdriver.Chrome(ChromeDriverManager().install())\n",
    "\n",
    "# Go to GOT Character Wiki\n",
    "page_url = \"https://en.wikipedia.org/wiki/List_of_Game_of_Thrones_characters\"\n",
    "driver.get(page_url)\n",
    "\n",
    "# Find and assemble list of main and side characters \n",
    "main_characters = driver.find_elements(By.CLASS_NAME, 'mw-headline')[5:47]\n",
    "side_characters = driver.find_elements(By.CLASS_NAME, 'mw-redirect')[107:193]\n",
    "characters = main_characters + side_characters\n",
    "\n",
    "# Convert selenium output to strings then transform list into DF\n",
    "char_list = []\n",
    "for elm in characters:\n",
    "    char_list.append(elm.text)\n",
    "\n",
    "# Create and modify character first-names and full names in DF \n",
    "char_df = pd.DataFrame(char_list,columns=['characters'])\n",
    "char_df['character_firstname'] = char_df['characters'].apply(lambda x: x.split(' ', 1)[0])\n",
    "char_df.character_firstname[0] = 'Ned'\n",
    "char_df.character_firstname[19] = 'Sam'\n",
    "char_df.character_firstname[6] = 'Mormont'\n",
    "char_df.character_firstname[13] = 'Bran'\n",
    "char_df.characters[19] = 'Sam Tarly'"
   ]
  },
  {
   "cell_type": "markdown",
   "metadata": {},
   "source": [
    "#### Branndon Marion"
   ]
  }
 ],
 "metadata": {
  "kernelspec": {
   "display_name": "Python 3",
   "language": "python",
   "name": "python3"
  },
  "language_info": {
   "codemirror_mode": {
    "name": "ipython",
    "version": 3
   },
   "file_extension": ".py",
   "mimetype": "text/x-python",
   "name": "python",
   "nbconvert_exporter": "python",
   "pygments_lexer": "ipython3",
   "version": "3.8.3"
  }
 },
 "nbformat": 4,
 "nbformat_minor": 4
}
