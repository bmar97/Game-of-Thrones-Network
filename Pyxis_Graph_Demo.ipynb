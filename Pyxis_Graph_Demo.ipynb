{
 "cells": [
  {
   "cell_type": "markdown",
   "id": "8b76eeb8-8bcf-49c3-b095-3427a6d0ad41",
   "metadata": {},
   "source": [
    "#### Imports"
   ]
  },
  {
   "cell_type": "code",
   "execution_count": 8,
   "id": "79107621-f37b-44b8-8ec8-5e197a2fb9bb",
   "metadata": {
    "tags": []
   },
   "outputs": [],
   "source": [
    "import pandas as pd\n",
    "import networkx as nx\n",
    "from pyvis.network import Network"
   ]
  },
  {
   "cell_type": "code",
   "execution_count": null,
   "id": "43f28b4a-3032-4399-b6e6-f041d6c34cfb",
   "metadata": {},
   "outputs": [],
   "source": []
  },
  {
   "cell_type": "code",
   "execution_count": 3,
   "id": "9867cfc2-bce7-442e-a5b7-7f2721fcdedf",
   "metadata": {
    "tags": []
   },
   "outputs": [],
   "source": [
    "bk1_demo = pd.read_csv(\"/Users/branndonmarion/Desktop/Projects/GOT_project/bookDF/book1_demoDF.csv\")"
   ]
  },
  {
   "cell_type": "markdown",
   "id": "396d4391-71fc-4da2-8a1e-c71b8fd09140",
   "metadata": {},
   "source": [
    "### Pyvis Graph Visualization - Demo"
   ]
  },
  {
   "cell_type": "code",
   "execution_count": 9,
   "id": "20dc1308-de38-4891-ba6e-dba82af8b208",
   "metadata": {
    "tags": []
   },
   "outputs": [
    {
     "name": "stdout",
     "output_type": "stream",
     "text": [
      "Warning: When  cdn_resources is 'local' jupyter notebook has issues displaying graphics on chrome/safari. Use cdn_resources='in_line' or cdn_resources='remote' if you have issues viewing graphics in a notebook.\n",
      "GOT.html\n"
     ]
    },
    {
     "data": {
      "text/html": [
       "\n",
       "        <iframe\n",
       "            width=\"1200px\"\n",
       "            height=\"900px\"\n",
       "            src=\"GOT.html\"\n",
       "            frameborder=\"0\"\n",
       "            allowfullscreen\n",
       "            \n",
       "        ></iframe>\n",
       "        "
      ],
      "text/plain": [
       "<IPython.lib.display.IFrame at 0x7fbcf9906f40>"
      ]
     },
     "execution_count": 9,
     "metadata": {},
     "output_type": "execute_result"
    }
   ],
   "source": [
    "# Create a graph from a pandas dataframe \n",
    "G = nx.from_pandas_edgelist(bk1_demo, \n",
    "                            source = \"source\",\n",
    "                            target = \"target\",\n",
    "                            edge_attr = \"value\",\n",
    "                            create_using = nx.Graph())\n",
    "\n",
    "# Set node size attribute\n",
    "net = Network(notebook = True, width=\"1200px\", height=\"900px\", bgcolor='#222222', font_color='white')\n",
    "node_degree = dict(G.degree)\n",
    "\n",
    "nx.set_node_attributes(G, node_degree, 'size')\n",
    "net.from_nx(G)\n",
    "net.show(\"GOT.html\")"
   ]
  },
  {
   "cell_type": "markdown",
   "id": "d3084953-cf6a-49ff-bc89-2ef49df031a0",
   "metadata": {},
   "source": [
    "#### Branndon Marion"
   ]
  }
 ],
 "metadata": {
  "kernelspec": {
   "display_name": "Python 3 (ipykernel)",
   "language": "python",
   "name": "python3"
  },
  "language_info": {
   "codemirror_mode": {
    "name": "ipython",
    "version": 3
   },
   "file_extension": ".py",
   "mimetype": "text/x-python",
   "name": "python",
   "nbconvert_exporter": "python",
   "pygments_lexer": "ipython3",
   "version": "3.8.3"
  }
 },
 "nbformat": 4,
 "nbformat_minor": 5
}
