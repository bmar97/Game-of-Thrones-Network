{
 "cells": [
  {
   "cell_type": "markdown",
   "id": "c0170572-2bfe-4665-a235-b421baf75c50",
   "metadata": {},
   "source": [
    "#### Imports"
   ]
  },
  {
   "cell_type": "code",
   "execution_count": 4,
   "id": "3e66be5d-e800-4612-9fd4-f67236840f15",
   "metadata": {
    "tags": []
   },
   "outputs": [],
   "source": [
    "import pandas as pd\n",
    "import networkx as nx\n",
    "from pyvis.network import Network"
   ]
  },
  {
   "cell_type": "code",
   "execution_count": 5,
   "id": "1f8df01d-3295-4e1a-852c-4c2d108467e8",
   "metadata": {
    "tags": []
   },
   "outputs": [],
   "source": [
    "bk1_demo = pd.read_csv(\"data/book1_demoDF.csv\")"
   ]
  },
  {
   "cell_type": "markdown",
   "id": "a85c791a-914c-4eb6-b0ee-d21e99caa029",
   "metadata": {},
   "source": [
    "### Pyvis Graph Visualization - Demo"
   ]
  },
  {
   "cell_type": "code",
   "execution_count": 6,
   "id": "ce6eee11-8dce-4ad4-83ac-a99ccc1635a0",
   "metadata": {
    "tags": []
   },
   "outputs": [
    {
     "name": "stdout",
     "output_type": "stream",
     "text": [
      "Warning: When  cdn_resources is 'local' jupyter notebook has issues displaying graphics on chrome/safari. Use cdn_resources='in_line' or cdn_resources='remote' if you have issues viewing graphics in a notebook.\n",
      "GOT.html\n"
     ]
    },
    {
     "data": {
      "text/html": [
       "\n",
       "        <iframe\n",
       "            width=\"900px\"\n",
       "            height=\"700px\"\n",
       "            src=\"GOT.html\"\n",
       "            frameborder=\"0\"\n",
       "            allowfullscreen\n",
       "        ></iframe>\n",
       "        "
      ],
      "text/plain": [
       "<IPython.lib.display.IFrame at 0x7f83b03d7c40>"
      ]
     },
     "execution_count": 6,
     "metadata": {},
     "output_type": "execute_result"
    }
   ],
   "source": [
    "# Create a graph from a pandas dataframe \n",
    "G = nx.from_pandas_edgelist(bk1_demo, \n",
    "                            source = \"source\",\n",
    "                            target = \"target\",\n",
    "                            edge_attr = \"value\",\n",
    "                            create_using = nx.Graph())\n",
    "\n",
    "# Set node size attribute\n",
    "net = Network(notebook = True, width=\"900px\", height=\"700px\", bgcolor='#222222', font_color='white', select_menu=True)\n",
    "node_degree = dict(G.degree)\n",
    "\n",
    "nx.set_node_attributes(G, node_degree, 'size')\n",
    "net.from_nx(G)\n",
    "net.show(\"GOT.html\")"
   ]
  },
  {
   "cell_type": "markdown",
   "id": "f240baa9-4b71-4cfa-a097-d179bb418c0e",
   "metadata": {},
   "source": [
    "#### Branndon Marion"
   ]
  }
 ],
 "metadata": {
  "kernelspec": {
   "display_name": "Python 3",
   "language": "python",
   "name": "python3"
  },
  "language_info": {
   "codemirror_mode": {
    "name": "ipython",
    "version": 3
   },
   "file_extension": ".py",
   "mimetype": "text/x-python",
   "name": "python",
   "nbconvert_exporter": "python",
   "pygments_lexer": "ipython3",
   "version": "3.8.3"
  }
 },
 "nbformat": 4,
 "nbformat_minor": 5
}
