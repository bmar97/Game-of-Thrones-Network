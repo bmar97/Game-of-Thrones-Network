{
 "cells": [
  {
   "cell_type": "markdown",
   "metadata": {},
   "source": [
    "#### Imports"
   ]
  },
  {
   "cell_type": "code",
   "execution_count": 1,
   "metadata": {
    "tags": []
   },
   "outputs": [],
   "source": [
    "import pandas as pd\n",
    "import networkx as nx\n",
    "import community as community_louvain\n",
    "\n",
    "from pyvis.network import Network"
   ]
  },
  {
   "cell_type": "markdown",
   "metadata": {},
   "source": [
    "### Community Detection Over Time"
   ]
  },
  {
   "cell_type": "code",
   "execution_count": 2,
   "metadata": {
    "tags": []
   },
   "outputs": [],
   "source": [
    "# Create a graph from a pandas dataframe \n",
    "bk1 = pd.read_csv(\"data/book1_relationshipDF.csv\")\n",
    "bk2 = pd.read_csv(\"data/book2_relationshipDF.csv\")\n",
    "bk3 = pd.read_csv(\"data/book3_relationshipDF.csv\")\n",
    "bk4 = pd.read_csv(\"data/book4_relationshipDF.csv\")\n",
    "bk5 = pd.read_csv(\"data/book5_relationshipDF.csv\")\n",
    "\n",
    "books = [bk1,bk2,bk3,bk4,bk5]\n",
    "books_graph = []\n",
    "\n",
    "for book in books:\n",
    "    # Create a graph from a pandas dataframe\n",
    "    G = nx.from_pandas_edgelist(book, \n",
    "                                source = \"source\", \n",
    "                                target = \"target\", \n",
    "                                edge_attr = \"value\", \n",
    "                                create_using = nx.Graph())\n",
    "    \n",
    "    books_graph.append(G)\n",
    "\n",
    "# Create a list of degree centrality of all the books and associated DF\n",
    "evolD = [nx.degree_centrality(book) for book in books_graph]\n",
    "degree_evolD_df = pd.DataFrame.from_records(evolD)\n",
    "\n",
    "# Create a list of degree centrality of all the books and associated DF\n",
    "evolB = [nx.betweenness_centrality(book) for book in books_graph]\n",
    "degree_evolB_df = pd.DataFrame.from_records(evolB)\n",
    "\n",
    "# Create a list of degree centrality of all the books and associated DF\n",
    "evolC = [nx.closeness_centrality(book) for book in books_graph]\n",
    "degree_evolC_df = pd.DataFrame.from_records(evolC)"
   ]
  },
  {
   "cell_type": "markdown",
   "metadata": {},
   "source": [
    "#### Function"
   ]
  },
  {
   "cell_type": "code",
   "execution_count": 3,
   "metadata": {
    "tags": []
   },
   "outputs": [],
   "source": [
    "def centrality_dev(G):\n",
    "    \n",
    "    # Degree of centrality\n",
    "    degree_dict = nx.degree_centrality(G)\n",
    "    degree_df = pd.DataFrame.from_dict(degree_dict, orient='index', columns=['degree centrality'])\n",
    "\n",
    "    # Betweenness centrality \n",
    "    betweenness_dict = nx.betweenness_centrality(G)\n",
    "    betweenness_df = pd.DataFrame.from_dict(betweenness_dict, orient='index', columns=['betweenness centrality'])\n",
    "    \n",
    "    # Closeness centrality\n",
    "    closeness_dict = nx.closeness_centrality(G)\n",
    "    closeness_df = pd.DataFrame.from_dict(closeness_dict, orient='index', columns=['closeness centrality'])\n",
    "        \n",
    "    return [degree_dict, betweenness_dict, closeness_dict]"
   ]
  },
  {
   "cell_type": "markdown",
   "metadata": {},
   "source": [
    "### Pyvis Visualizations"
   ]
  },
  {
   "cell_type": "markdown",
   "metadata": {},
   "source": [
    "#### Book1"
   ]
  },
  {
   "cell_type": "code",
   "execution_count": 4,
   "metadata": {
    "tags": []
   },
   "outputs": [
    {
     "name": "stdout",
     "output_type": "stream",
     "text": [
      "Warning: When  cdn_resources is 'local' jupyter notebook has issues displaying graphics on chrome/safari. Use cdn_resources='in_line' or cdn_resources='remote' if you have issues viewing graphics in a notebook.\n",
      "GOT_comB1.html\n"
     ]
    },
    {
     "data": {
      "text/html": [
       "\n",
       "        <iframe\n",
       "            width=\"900px\"\n",
       "            height=\"900px\"\n",
       "            src=\"GOT_comB1.html\"\n",
       "            frameborder=\"0\"\n",
       "            allowfullscreen\n",
       "        ></iframe>\n",
       "        "
      ],
      "text/plain": [
       "<IPython.lib.display.IFrame at 0x7fa15036afa0>"
      ]
     },
     "execution_count": 4,
     "metadata": {},
     "output_type": "execute_result"
    }
   ],
   "source": [
    "G1 = books_graph[0]\n",
    "x1 = centrality_dev(G1)\n",
    "communities1 = community_louvain.best_partition(G1)\n",
    "\n",
    "\n",
    "# Save centrality measures \n",
    "nx.set_node_attributes(G1, x1[0], 'degree_centrality')\n",
    "nx.set_node_attributes(G1, x1[1], 'degree_betweenness')\n",
    "nx.set_node_attributes(G1, x1[2], 'degree_closeness')\n",
    "nx.set_node_attributes(G1, communities1, 'group')\n",
    "\n",
    "com_net1 = Network(notebook = True, width=\"900px\", height=\"900px\", bgcolor='#222222', font_color='white', select_menu=True)\n",
    "com_net1.from_nx(G1)\n",
    "com_net1.from_nx(G1)\n",
    "\n",
    "com_net1.show(\"GOT_comB1.html\")"
   ]
  },
  {
   "cell_type": "markdown",
   "metadata": {},
   "source": [
    "#### Book2"
   ]
  },
  {
   "cell_type": "code",
   "execution_count": 5,
   "metadata": {
    "tags": []
   },
   "outputs": [
    {
     "name": "stdout",
     "output_type": "stream",
     "text": [
      "Warning: When  cdn_resources is 'local' jupyter notebook has issues displaying graphics on chrome/safari. Use cdn_resources='in_line' or cdn_resources='remote' if you have issues viewing graphics in a notebook.\n",
      "GOT_comB2.html\n"
     ]
    },
    {
     "data": {
      "text/html": [
       "\n",
       "        <iframe\n",
       "            width=\"900px\"\n",
       "            height=\"900px\"\n",
       "            src=\"GOT_comB2.html\"\n",
       "            frameborder=\"0\"\n",
       "            allowfullscreen\n",
       "        ></iframe>\n",
       "        "
      ],
      "text/plain": [
       "<IPython.lib.display.IFrame at 0x7fa150326fa0>"
      ]
     },
     "execution_count": 5,
     "metadata": {},
     "output_type": "execute_result"
    }
   ],
   "source": [
    "G2 = books_graph[1]\n",
    "x2 = centrality_dev(G2)\n",
    "communities2 = community_louvain.best_partition(G2)\n",
    "\n",
    "\n",
    "# Save centrality measures \n",
    "nx.set_node_attributes(G2, x2[0], 'degree_centrality')\n",
    "nx.set_node_attributes(G2, x2[1], 'degree_betweenness')\n",
    "nx.set_node_attributes(G2, x2[2], 'degree_closeness')\n",
    "nx.set_node_attributes(G2, communities2, 'group')\n",
    "\n",
    "com_net2 = Network(notebook = True, width=\"900px\", height=\"900px\", bgcolor='#222222', font_color='white', select_menu=True)\n",
    "com_net2.from_nx(G1)\n",
    "com_net2.from_nx(G1)\n",
    "com_net2.show(\"GOT_comB2.html\")"
   ]
  },
  {
   "cell_type": "markdown",
   "metadata": {},
   "source": [
    "#### Book3"
   ]
  },
  {
   "cell_type": "code",
   "execution_count": 6,
   "metadata": {
    "tags": []
   },
   "outputs": [
    {
     "name": "stdout",
     "output_type": "stream",
     "text": [
      "Warning: When  cdn_resources is 'local' jupyter notebook has issues displaying graphics on chrome/safari. Use cdn_resources='in_line' or cdn_resources='remote' if you have issues viewing graphics in a notebook.\n",
      "GOT_comB3.html\n"
     ]
    },
    {
     "data": {
      "text/html": [
       "\n",
       "        <iframe\n",
       "            width=\"900px\"\n",
       "            height=\"900px\"\n",
       "            src=\"GOT_comB3.html\"\n",
       "            frameborder=\"0\"\n",
       "            allowfullscreen\n",
       "        ></iframe>\n",
       "        "
      ],
      "text/plain": [
       "<IPython.lib.display.IFrame at 0x7fa15036a160>"
      ]
     },
     "execution_count": 6,
     "metadata": {},
     "output_type": "execute_result"
    }
   ],
   "source": [
    "G3 = books_graph[2]\n",
    "x3 = centrality_dev(G3)\n",
    "communities3 = community_louvain.best_partition(G3)\n",
    "\n",
    "\n",
    "# Save centrality measures \n",
    "nx.set_node_attributes(G3, x1[0], 'degree_centrality')\n",
    "nx.set_node_attributes(G3, x1[1], 'degree_betweenness')\n",
    "nx.set_node_attributes(G3, x1[2], 'degree_closeness')\n",
    "nx.set_node_attributes(G3, communities3, 'group')\n",
    "\n",
    "com_net3 = Network(notebook = True, width=\"900px\", height=\"900px\", bgcolor='#222222', font_color='white', select_menu=True)\n",
    "com_net3.from_nx(G3)\n",
    "com_net3.from_nx(G3)\n",
    "com_net3.show(\"GOT_comB3.html\")"
   ]
  },
  {
   "cell_type": "markdown",
   "metadata": {},
   "source": [
    "#### Book4"
   ]
  },
  {
   "cell_type": "code",
   "execution_count": 7,
   "metadata": {
    "tags": []
   },
   "outputs": [
    {
     "name": "stdout",
     "output_type": "stream",
     "text": [
      "Warning: When  cdn_resources is 'local' jupyter notebook has issues displaying graphics on chrome/safari. Use cdn_resources='in_line' or cdn_resources='remote' if you have issues viewing graphics in a notebook.\n",
      "GOT_comB4.html\n"
     ]
    },
    {
     "data": {
      "text/html": [
       "\n",
       "        <iframe\n",
       "            width=\"900px\"\n",
       "            height=\"900px\"\n",
       "            src=\"GOT_comB4.html\"\n",
       "            frameborder=\"0\"\n",
       "            allowfullscreen\n",
       "        ></iframe>\n",
       "        "
      ],
      "text/plain": [
       "<IPython.lib.display.IFrame at 0x7fa140857a00>"
      ]
     },
     "execution_count": 7,
     "metadata": {},
     "output_type": "execute_result"
    }
   ],
   "source": [
    "G4 = books_graph[3]\n",
    "x4 = centrality_dev(G4)\n",
    "communities4 = community_louvain.best_partition(G4)\n",
    "\n",
    "\n",
    "# Save centrality measures \n",
    "nx.set_node_attributes(G4, x4[0], 'degree_centrality')\n",
    "nx.set_node_attributes(G4, x4[1], 'degree_betweenness')\n",
    "nx.set_node_attributes(G4, x4[2], 'degree_closeness')\n",
    "nx.set_node_attributes(G4, communities4, 'group')\n",
    "\n",
    "com_net4 = Network(notebook = True, width=\"900px\", height=\"900px\", bgcolor='#222222', font_color='white', select_menu=True)\n",
    "com_net4.from_nx(G4)\n",
    "com_net4.from_nx(G4)\n",
    "com_net4.show(\"GOT_comB4.html\")"
   ]
  },
  {
   "cell_type": "markdown",
   "metadata": {},
   "source": [
    "#### Book5"
   ]
  },
  {
   "cell_type": "code",
   "execution_count": 8,
   "metadata": {},
   "outputs": [
    {
     "name": "stdout",
     "output_type": "stream",
     "text": [
      "Warning: When  cdn_resources is 'local' jupyter notebook has issues displaying graphics on chrome/safari. Use cdn_resources='in_line' or cdn_resources='remote' if you have issues viewing graphics in a notebook.\n",
      "GOT_comB5.html\n"
     ]
    },
    {
     "data": {
      "text/html": [
       "\n",
       "        <iframe\n",
       "            width=\"900px\"\n",
       "            height=\"900px\"\n",
       "            src=\"GOT_comB5.html\"\n",
       "            frameborder=\"0\"\n",
       "            allowfullscreen\n",
       "        ></iframe>\n",
       "        "
      ],
      "text/plain": [
       "<IPython.lib.display.IFrame at 0x7fa15036a3d0>"
      ]
     },
     "execution_count": 8,
     "metadata": {},
     "output_type": "execute_result"
    }
   ],
   "source": [
    "G5 = books_graph[4]\n",
    "x5 = centrality_dev(G5)\n",
    "communities5 = community_louvain.best_partition(G5)\n",
    "\n",
    "\n",
    "# Save centrality measures \n",
    "nx.set_node_attributes(G5, x5[0], 'degree_centrality')\n",
    "nx.set_node_attributes(G5, x5[1], 'degree_betweenness')\n",
    "nx.set_node_attributes(G5, x5[2], 'degree_closeness')\n",
    "nx.set_node_attributes(G5, communities5, 'group')\n",
    "\n",
    "com_net5 = Network(notebook = True, width=\"900px\", height=\"900px\", bgcolor='#222222', font_color='white', select_menu=True)\n",
    "com_net5.from_nx(G5)\n",
    "com_net5.from_nx(G5)\n",
    "com_net5.show(\"GOT_comB5.html\")"
   ]
  },
  {
   "cell_type": "markdown",
   "metadata": {},
   "source": [
    "#### Branndon Marion"
   ]
  }
 ],
 "metadata": {
  "kernelspec": {
   "display_name": "Python 3",
   "language": "python",
   "name": "python3"
  },
  "language_info": {
   "codemirror_mode": {
    "name": "ipython",
    "version": 3
   },
   "file_extension": ".py",
   "mimetype": "text/x-python",
   "name": "python",
   "nbconvert_exporter": "python",
   "pygments_lexer": "ipython3",
   "version": "3.8.3"
  }
 },
 "nbformat": 4,
 "nbformat_minor": 4
}
